{
 "cells": [
  {
   "cell_type": "code",
   "execution_count": 18,
   "metadata": {},
   "outputs": [],
   "source": [
    "from urllib.request import urlopen\n",
    "from bs4 import BeautifulSoup\n",
    "import signal\n",
    "import pandas as pd\n",
    "import time\n",
    "import WebTools\n",
    "Tools = WebTools.Tools()\n",
    "import DataframeShortcuts\n",
    "DS = DataframeShortcuts.Shortcuts()\n",
    "import tkinter as tk\n",
    "import os\n",
    "\n",
    "# Creating timeout error to limit the runtime of a function if needed\n",
    "class TimeoutException(Exception): # Creating custom error\n",
    "    pass\n",
    "\n",
    "def timeout_handler(): # Creating function to handle error\n",
    "    print('Reached maximum allotted time')\n",
    "    raise TimeoutException\n",
    "    \n",
    "signal.signal(signal.SIGALRM, timeout_handler);"
   ]
  },
  {
   "cell_type": "code",
   "execution_count": null,
   "metadata": {},
   "outputs": [],
   "source": [
    "def main():\n",
    "    # Check if data folder exists\n",
    "    data_folder_path = os.path.dirname(os.path.abspath('web_scrape_test.ipynb')) + '/Data'\n",
    "    if not os.path.isdir(data_folder_path):\n",
    "        os.mkdir(path=data_folder_path)\n",
    "\n",
    "    # Create tkinter GUI\n",
    "    # Add buttons to tkinter GUI that will break loop/delete entries\n",
    "\n",
    "    # Begin big loop\n",
    "    run = True\n",
    "    while (run == True):\n",
    "        delete = False\n",
    "\n",
    "        # 1. Read in csv with websites\n",
    "        df = pd.read_csv('websites.csv',header=0)\n",
    "        df = df.reset_index(drop=True)\n",
    "\n",
    "        for idx,info in df.iterrows():\n",
    "            # 2. Iterate over all entries to check if enough time has passed\n",
    "            # if data was updated, download data(?) and then enter new system time\n",
    "            continue\n",
    "        \n",
    "        # 3. Check to see if user asked for entry to be deleted\n",
    "        if delete:\n",
    "            # Delete entry\n",
    "            df.drop(idx).reset_index(drop=True) \n",
    "            pass\n",
    "\n",
    "        # 4. Overwrite file \n",
    "        df.to_csv('websites.csv',index=False)\n",
    "\n",
    "\n",
    "if __name__ == '__main__':\n",
    "    main()"
   ]
  },
  {
   "cell_type": "code",
   "execution_count": null,
   "metadata": {},
   "outputs": [],
   "source": []
  }
 ],
 "metadata": {
  "kernelspec": {
   "display_name": "Data_Science",
   "language": "python",
   "name": "python3"
  },
  "language_info": {
   "codemirror_mode": {
    "name": "ipython",
    "version": 3
   },
   "file_extension": ".py",
   "mimetype": "text/x-python",
   "name": "python",
   "nbconvert_exporter": "python",
   "pygments_lexer": "ipython3",
   "version": "3.9.16"
  },
  "orig_nbformat": 4
 },
 "nbformat": 4,
 "nbformat_minor": 2
}

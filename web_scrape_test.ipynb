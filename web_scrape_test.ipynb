{
 "cells": [
  {
   "cell_type": "code",
   "execution_count": 16,
   "metadata": {},
   "outputs": [],
   "source": [
    "from urllib.request import urlopen\n",
    "import re\n",
    "from bs4 import BeautifulSoup\n",
    "import signal\n",
    "import pandas as pd\n",
    "\n",
    "# Creating timeout error to limit the runtime of a function if needed\n",
    "class TimeoutException(Exception): # Creating custom error\n",
    "    pass\n",
    "\n",
    "def timeout_handler(): # Creating function to handle error\n",
    "    print('Reached maximum allotted time')\n",
    "    raise TimeoutException\n",
    "    \n",
    "signal.signal(signal.SIGALRM, timeout_handler);"
   ]
  },
  {
   "cell_type": "code",
   "execution_count": 17,
   "metadata": {},
   "outputs": [],
   "source": [
    "class WebTools():\n",
    "    def get_title(self,url):\n",
    "        '''\n",
    "        This function reads the html and finds the title, returning it as a string\n",
    "        '''\n",
    "        if (url == None) or ('http' not in url):\n",
    "            raise ValueError(f'Not a useable url: \"{url}\"')\n",
    "        try:\n",
    "            response = urlopen(url)\n",
    "            soup = BeautifulSoup(response, 'html.parser')\n",
    "            title = soup.title.get_text()\n",
    "            del url\n",
    "            return title\n",
    "        except:\n",
    "            raise ValueError(f'Not a useable url: \"{url}\"')\n",
    "        \n",
    "    def find_all_links(self,page):\n",
    "        '''\n",
    "        Finds all links on page, this is a WIP as it doesn't find all links\n",
    "        '''\n",
    "        soup = BeautifulSoup(page,features=\"lxml\")\n",
    "        all_links = []\n",
    "        for line in soup.find_all('a'):\n",
    "            line = line.get('href')\n",
    "            try:\n",
    "                if ('http' not in line):\n",
    "                    continue\n",
    "            except:\n",
    "                continue\n",
    "            all_links.append(line)\n",
    "        del soup,line,page\n",
    "        return list(set(all_links))\n",
    "    \n",
    "    def find_relevant_links_and_titles(self,all_links,keywords,search_title = False):\n",
    "        name_and_link = []\n",
    "        keywords_upper = [string.capitalize() for string in keywords]\n",
    "        for link in all_links:\n",
    "            signal.alarm(5)\n",
    "            if search_title:\n",
    "                try:\n",
    "                    title = self.get_title(link).lower()\n",
    "                    if any(substring in title for substring in keywords):\n",
    "                        name_and_link.append((title,link)) \n",
    "                    else:\n",
    "                        pass\n",
    "                except:\n",
    "                    continue\n",
    "                else: \n",
    "                    signal.alarm(0)\n",
    "            else:\n",
    "                try:\n",
    "                    link = link.lower()\n",
    "                    if any(substring in link for substring in keywords):\n",
    "                        title = self.get_title(link)\n",
    "                        name_and_link.append((title,link))\n",
    "                    else:              \n",
    "                        pass\n",
    "                except:\n",
    "                    continue\n",
    "                else:\n",
    "                    signal.alarm(0)\n",
    "        del keywords,keywords_upper,title,link,all_links\n",
    "        return list(set(name_and_link))\n",
    "        \n",
    "WT = WebTools()"
   ]
  },
  {
   "cell_type": "code",
   "execution_count": 3,
   "metadata": {},
   "outputs": [
    {
     "name": "stdout",
     "output_type": "stream",
     "text": [
      "{('Functional Classification Maps', 'https://www.tn.gov/tdot/driver-how-do-i/look-at-or-order-state-maps/maps/annual-average-daily-traffic-maps1.html'), ('ArcGIS Web Application', 'https://pwgis.chattanooga.gov/portal/apps/webappviewer/index.html?id=2b066c4f02a14f288f0134a02eeca91e'), ('Transportation Planning Organization – CHCRPA', 'https://chcrpa.org/transportation-planning-organization/'), ('Employment Opportunities – CHCRPA', 'https://chcrpa.org/employment-opportunities/'), ('Home | CARTA | Chattanooga’s Ride', 'http://www.carta-bus.org/')}\n"
     ]
    }
   ],
   "source": [
    "def main():\n",
    "    page = urlopen(\"https://chcrpa.org/data-and-analyses/data/\").read()\n",
    "\n",
    "    all_links = WT.find_all_links(page)\n",
    "\n",
    "    keywords = ['transport','car','train','railroad','vehicle','fuel','travel','port','road','highway','bridge','bus','electric vehicle','airport','transit','sidewalk','bike','sidewalk','traffic']\n",
    "    name_and_link = WT.find_relevant_links_and_titles(all_links,keywords,search_title=False)\n",
    "\n",
    "    print(set(name_and_link))\n",
    "\n",
    "if __name__ == '__main__':\n",
    "    main()"
   ]
  },
  {
   "cell_type": "code",
   "execution_count": 20,
   "metadata": {},
   "outputs": [],
   "source": [
    "test_dict = {\n",
    "    'Title':[\"Data – CHCRPA\"],\n",
    "    'url':[\"https://chcrpa.org/data-and-analyses/data/\"],\n",
    "    'time':[1685977141],\n",
    "}\n",
    "\n",
    "test_data = pd.DataFrame.from_dict(test_dict)\n",
    "\n",
    "test_data.to_csv('test_data.csv',header=['title','url','time'])"
   ]
  },
  {
   "cell_type": "code",
   "execution_count": 21,
   "metadata": {},
   "outputs": [
    {
     "data": {
      "text/html": [
       "<div>\n",
       "<style scoped>\n",
       "    .dataframe tbody tr th:only-of-type {\n",
       "        vertical-align: middle;\n",
       "    }\n",
       "\n",
       "    .dataframe tbody tr th {\n",
       "        vertical-align: top;\n",
       "    }\n",
       "\n",
       "    .dataframe thead th {\n",
       "        text-align: right;\n",
       "    }\n",
       "</style>\n",
       "<table border=\"1\" class=\"dataframe\">\n",
       "  <thead>\n",
       "    <tr style=\"text-align: right;\">\n",
       "      <th></th>\n",
       "      <th>Title</th>\n",
       "      <th>url</th>\n",
       "      <th>time</th>\n",
       "    </tr>\n",
       "  </thead>\n",
       "  <tbody>\n",
       "    <tr>\n",
       "      <th>0</th>\n",
       "      <td>Data – CHCRPA</td>\n",
       "      <td>https://chcrpa.org/data-and-analyses/data/</td>\n",
       "      <td>1685977141</td>\n",
       "    </tr>\n",
       "  </tbody>\n",
       "</table>\n",
       "</div>"
      ],
      "text/plain": [
       "           Title                                         url        time\n",
       "0  Data – CHCRPA  https://chcrpa.org/data-and-analyses/data/  1685977141"
      ]
     },
     "execution_count": 21,
     "metadata": {},
     "output_type": "execute_result"
    }
   ],
   "source": [
    "test_data"
   ]
  },
  {
   "cell_type": "code",
   "execution_count": 23,
   "metadata": {},
   "outputs": [
    {
     "data": {
      "text/html": [
       "<div>\n",
       "<style scoped>\n",
       "    .dataframe tbody tr th:only-of-type {\n",
       "        vertical-align: middle;\n",
       "    }\n",
       "\n",
       "    .dataframe tbody tr th {\n",
       "        vertical-align: top;\n",
       "    }\n",
       "\n",
       "    .dataframe thead th {\n",
       "        text-align: right;\n",
       "    }\n",
       "</style>\n",
       "<table border=\"1\" class=\"dataframe\">\n",
       "  <thead>\n",
       "    <tr style=\"text-align: right;\">\n",
       "      <th></th>\n",
       "      <th>Unnamed: 0</th>\n",
       "      <th>Title</th>\n",
       "      <th>url</th>\n",
       "      <th>time</th>\n",
       "    </tr>\n",
       "  </thead>\n",
       "  <tbody>\n",
       "    <tr>\n",
       "      <th>0</th>\n",
       "      <td>0</td>\n",
       "      <td>Data – CHCRPA</td>\n",
       "      <td>https://chcrpa.org/data-and-analyses/data/</td>\n",
       "      <td>1685977141</td>\n",
       "    </tr>\n",
       "  </tbody>\n",
       "</table>\n",
       "</div>"
      ],
      "text/plain": [
       "   Unnamed: 0          Title                                         url  \\\n",
       "0           0  Data – CHCRPA  https://chcrpa.org/data-and-analyses/data/   \n",
       "\n",
       "         time  \n",
       "0  1685977141  "
      ]
     },
     "execution_count": 23,
     "metadata": {},
     "output_type": "execute_result"
    }
   ],
   "source": [
    "read_csv = pd.read_csv('test_data.csv',header=0)\n",
    "read_csv"
   ]
  },
  {
   "cell_type": "code",
   "execution_count": null,
   "metadata": {},
   "outputs": [],
   "source": []
  }
 ],
 "metadata": {
  "kernelspec": {
   "display_name": "Data_Science",
   "language": "python",
   "name": "python3"
  },
  "language_info": {
   "codemirror_mode": {
    "name": "ipython",
    "version": 3
   },
   "file_extension": ".py",
   "mimetype": "text/x-python",
   "name": "python",
   "nbconvert_exporter": "python",
   "pygments_lexer": "ipython3",
   "version": "3.9.16"
  },
  "orig_nbformat": 4
 },
 "nbformat": 4,
 "nbformat_minor": 2
}

{
 "cells": [
  {
   "cell_type": "code",
   "execution_count": 3,
   "metadata": {},
   "outputs": [],
   "source": [
    "import pandas as pd\n",
    "import time"
   ]
  },
  {
   "cell_type": "code",
   "execution_count": 4,
   "metadata": {},
   "outputs": [],
   "source": [
    "def add_to_dataframe(df,name_link_type):\n",
    "    '''\n",
    "    This method can be used to add/save websites to the website csv, returns dataframe with new \n",
    "    entries added to end of frame.\n",
    "\n",
    "    df: This is the dataframe you want to add the entries to.\n",
    "\n",
    "    name_link_type: This is an array that contains tuples with title of a website in the first position\n",
    "    the link in the second position, and the type of each dataset. \n",
    "    Should Look like this -> [('Title1','www.link1.com','file extension 1'),('Title2','www.link2.com','file extension 2')]\n",
    "    '''\n",
    "    new_df = df.copy()\n",
    "    del df\n",
    "    for tup in name_link_type:\n",
    "        new_df.loc[len(new_df.index)] = [tup[0], tup[1], tup[2], round(time.time()), \"empty\"]\n",
    "\n",
    "    return new_df\n",
    "\n",
    "def remove_entry(df,idx,save_immediately=False):\n",
    "    '''\n",
    "    This method deletes an entry by index, saves changes immediately depending on you choice, and then returns the new dataframe\n",
    "    If save_immediately is set to false, then if the program is unable to reach then end of the main loop, the change will not be saved,\n",
    "    \n",
    "\n",
    "    df: Dataframe you are working with\n",
    "\n",
    "    idx: integer, index of the row/entry you want deleted\n",
    "\n",
    "    returns: New dataframe with entry removed\n",
    "    '''\n",
    "    new_df = df.copy()\n",
    "    del df\n",
    "\n",
    "    new_df = new_df.drop(idx).reset_index(drop=True)\n",
    "\n",
    "    if save_immediately:\n",
    "        new_df.to_csv('websites.csv',index=False)\n",
    "\n",
    "    return new_df\n",
    "\n",
    "df = pd.read_csv('websites.csv',header=0)"
   ]
  },
  {
   "cell_type": "code",
   "execution_count": null,
   "metadata": {},
   "outputs": [],
   "source": [
    "name_link_type = [\n",
    "    (),\n",
    "]\n",
    "\n",
    "add_to_dataframe(df=df,name_link_type=name_link_type)"
   ]
  }
 ],
 "metadata": {
  "kernelspec": {
   "display_name": "Data_Science",
   "language": "python",
   "name": "python3"
  },
  "language_info": {
   "codemirror_mode": {
    "name": "ipython",
    "version": 3
   },
   "file_extension": ".py",
   "mimetype": "text/x-python",
   "name": "python",
   "nbconvert_exporter": "python",
   "pygments_lexer": "ipython3",
   "version": "3.9.16"
  },
  "orig_nbformat": 4
 },
 "nbformat": 4,
 "nbformat_minor": 2
}
